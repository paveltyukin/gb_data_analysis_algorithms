{
 "cells": [
  {
   "cell_type": "markdown",
   "metadata": {},
   "source": [
    "### Домашнее задание <a class=\"anchor\" id=\"hw\"></a><center>"
   ]
  },
  {
   "cell_type": "code",
   "execution_count": 37,
   "metadata": {
    "colab": {},
    "colab_type": "code",
    "id": "_u5bV-OlT34p"
   },
   "outputs": [],
   "source": [
    "import numpy as np\n",
    "import matplotlib.pyplot as plt\n",
    "from tqdm import tqdm\n",
    "import warnings\n",
    "warnings.filterwarnings('ignore')"
   ]
  },
  {
   "cell_type": "markdown",
   "metadata": {},
   "source": [
    "__Задача:__ предсказание баллов ЕГЭ ученика"
   ]
  },
  {
   "cell_type": "code",
   "execution_count": 2,
   "metadata": {
    "colab": {},
    "colab_type": "code",
    "id": "_n6il-AZaLuA"
   },
   "outputs": [],
   "source": [
    "X = np.array([[   1,    1,  500,    1],\n",
    "              [   1,    1,  700,    1],\n",
    "              [   1,    2,  750,    2],\n",
    "              [   1,    5,  600,    1],\n",
    "              [   1,    3, 1450,    2],\n",
    "              [   1,    0,  800,    1],\n",
    "              [   1,    5, 1500,    3],\n",
    "              [   1,   10, 2000,    3],\n",
    "              [   1,    1,  450,    1],\n",
    "              [   1,    2, 1000,    2]])"
   ]
  },
  {
   "cell_type": "code",
   "execution_count": 3,
   "metadata": {
    "colab": {},
    "colab_type": "code",
    "id": "x8yoci01ni-t"
   },
   "outputs": [],
   "source": [
    "y = [45, 55, 50, 55, 60, 35, 75, 80, 50, 60]"
   ]
  },
  {
   "cell_type": "code",
   "execution_count": 4,
   "metadata": {},
   "outputs": [],
   "source": [
    "def standard_scale(X):\n",
    "    mean = X.mean(axis=0)\n",
    "    std = X.std(axis=0)\n",
    "    return (X - mean) / std"
   ]
  },
  {
   "cell_type": "code",
   "execution_count": 5,
   "metadata": {},
   "outputs": [
    {
     "data": {
      "text/plain": [
       "array([[ 1.        , -0.70710678, -0.97958969, -0.89625816],\n",
       "       [ 1.        , -0.70710678, -0.56713087, -0.89625816],\n",
       "       [ 1.        , -0.35355339, -0.46401617,  0.38411064],\n",
       "       [ 1.        ,  0.70710678, -0.77336028, -0.89625816],\n",
       "       [ 1.        ,  0.        ,  0.97958969,  0.38411064],\n",
       "       [ 1.        , -1.06066017, -0.36090146, -0.89625816],\n",
       "       [ 1.        ,  0.70710678,  1.08270439,  1.66447944],\n",
       "       [ 1.        ,  2.47487373,  2.11385144,  1.66447944],\n",
       "       [ 1.        , -0.70710678, -1.08270439, -0.89625816],\n",
       "       [ 1.        , -0.35355339,  0.05155735,  0.38411064]])"
      ]
     },
     "execution_count": 5,
     "metadata": {},
     "output_type": "execute_result"
    }
   ],
   "source": [
    "X_st = X.copy().astype(np.float64)\n",
    "X_st[:, 1:4] = standard_scale(X_st[:, 1:4])\n",
    "X_st"
   ]
  },
  {
   "cell_type": "code",
   "execution_count": 39,
   "metadata": {},
   "outputs": [
    {
     "name": "stdout",
     "output_type": "stream",
     "text": [
      "4.4408920985006264e-17 1.0\n"
     ]
    },
    {
     "data": {
      "image/png": "[encoded data removed]",
      "text/plain": [
       "<Figure size 432x288 with 1 Axes>"
      ]
     },
     "metadata": {
      "needs_background": "light"
     },
     "output_type": "display_data"
    }
   ],
   "source": [
    "ind = 1\n",
    "print(np.mean(X_st[:, ind]), np.std(X_st[:, ind]))\n",
    "plt.hist(X_st[:, ind])\n",
    "plt.show()"
   ]
  },
  {
   "cell_type": "code",
   "execution_count": 7,
   "metadata": {},
   "outputs": [],
   "source": [
    "def calc_mse(y, y_pred):\n",
    "    err = np.mean((y - y_pred)**2)\n",
    "    return err"
   ]
  },
  {
   "cell_type": "markdown",
   "metadata": {},
   "source": [
    "**1. Постройте график зависимости весов всех признаков от lambda в самописной L2-регуляризации (на данных про ЕГЭ). Сделайте вывод**"
   ]
  },
  {
   "cell_type": "code",
   "execution_count": 8,
   "metadata": {},
   "outputs": [],
   "source": [
    "def gradient_descent_reg_l2(X, y, iterations, eta=1e-4, reg=1e-8):\n",
    "    W = np.random.randn(X.shape[1])\n",
    "    n = X.shape[0]\n",
    "    \n",
    "    for i in range(0, iterations):\n",
    "        y_pred = np.dot(X, W)\n",
    "        err = calc_mse(y, y_pred)\n",
    "        \n",
    "        dQ = 2/n * X.T @ (y_pred - y) # градиент функции ошибки\n",
    "        dReg = reg * W # градиент регуляризации\n",
    "        \n",
    "        W -= eta * dQ + dReg\n",
    "        \n",
    "#         if i % (iterations / 10) == 0:\n",
    "#             print(f'Iter: {i}, weights: {W}, error {err}')\n",
    "    \n",
    "#     print(f'Final MSE: {calc_mse(y, np.dot(X, W))}')\n",
    "    return W"
   ]
  },
  {
   "cell_type": "code",
   "execution_count": 9,
   "metadata": {},
   "outputs": [
    {
     "data": {
      "text/plain": [
       "array([56.21890547,  6.23067349, -0.16461853,  6.42091712])"
      ]
     },
     "execution_count": 9,
     "metadata": {},
     "output_type": "execute_result"
    }
   ],
   "source": [
    "gradient_descent_reg_l2(X_st, y, iterations=5000, eta=1e-2, reg=1e-4)"
   ]
  },
  {
   "cell_type": "code",
   "execution_count": 10,
   "metadata": {},
   "outputs": [
    {
     "data": {
      "text/plain": [
       "array([0.        , 0.11111111, 0.22222222, 0.33333333, 0.44444444,\n",
       "       0.55555556, 0.66666667, 0.77777778, 0.88888889, 1.        ])"
      ]
     },
     "execution_count": 10,
     "metadata": {},
     "output_type": "execute_result"
    }
   ],
   "source": [
    "np.linspace(0, 1, 10)"
   ]
  },
  {
   "cell_type": "code",
   "execution_count": 11,
   "metadata": {
    "scrolled": false
   },
   "outputs": [
    {
     "name": "stderr",
     "output_type": "stream",
     "text": [
      "10it [00:01,  5.03it/s]\n"
     ]
    },
    {
     "data": {
      "image/png": "[encoded data removed]",
      "text/plain": [
       "<Figure size 720x432 with 1 Axes>"
      ]
     },
     "metadata": {
      "needs_background": "light"
     },
     "output_type": "display_data"
    }
   ],
   "source": [
    "n = 10\n",
    "\n",
    "coeffs = np.zeros((n, X_st.shape[1]))\n",
    "lambda_list = np.linspace(0, 1, n)\n",
    "\n",
    "for i, val in tqdm(enumerate(lambda_list)):\n",
    "    weights = gradient_descent_reg_l2(X_st, y, iterations=5000, eta=1e-2, reg=val)\n",
    "    coeffs[i, :] = weights\n",
    "\n",
    "\n",
    "plt.figure(figsize=(10, 6))\n",
    "for i in range(X_st.shape[1]):\n",
    "    plt.plot(lambda_list, coeffs[:, i])\n",
    "\n",
    "    \n",
    "plt.title('Убывание абсолютных значений весов признаков\\n при увеличении коэффициента регуляризации')\n",
    "plt.xlabel('lambda')\n",
    "plt.ylabel('Вес признака');"
   ]
  },
  {
   "cell_type": "markdown",
   "metadata": {},
   "source": [
    "**2. Напишите функцию наподобие gradient_descent_reg_l2, но для применения L1-регуляризации.**"
   ]
  },
  {
   "cell_type": "code",
   "execution_count": null,
   "metadata": {},
   "outputs": [],
   "source": [
    "W / np.abs(W)\n",
    "+1 / 1 = +\n",
    "-1 / 1 = -\n",
    "0 / 0 = nan"
   ]
  },
  {
   "cell_type": "code",
   "execution_count": 40,
   "metadata": {},
   "outputs": [
    {
     "data": {
      "text/plain": [
       "0"
      ]
     },
     "execution_count": 40,
     "metadata": {},
     "output_type": "execute_result"
    }
   ],
   "source": [
    "np.sign(0)"
   ]
  },
  {
   "cell_type": "code",
   "execution_count": 12,
   "metadata": {},
   "outputs": [],
   "source": [
    "def gradient_descent_reg_l1(X, y, iterations, eta=1e-4, reg=1e-8):\n",
    "    W = np.random.randn(X.shape[1])\n",
    "    n = X.shape[0]\n",
    "    \n",
    "    for i in range(0, iterations):\n",
    "        y_pred = np.dot(X, W)\n",
    "        err = calc_mse(y, y_pred)\n",
    "        \n",
    "        dQ = 2/n * X.T @ (y_pred - y) # градиент функции ошибки\n",
    "        dReg = reg * np.sign(W) # градиент регуляризации\n",
    "        \n",
    "        W -= eta * dQ + dReg\n",
    "        \n",
    "        if i % (iterations / 10) == 0:\n",
    "            print(f'Iter: {i}, weights: {W}, error {err}')\n",
    "    \n",
    "    print(f'Final MSE: {calc_mse(y, np.dot(X, W))}')\n",
    "    return W"
   ]
  },
  {
   "cell_type": "code",
   "execution_count": 13,
   "metadata": {},
   "outputs": [
    {
     "name": "stdout",
     "output_type": "stream",
     "text": [
      "Iter: 0, weights: [ 1.22180114 -0.51761406 -0.65267091 -0.14231125], error 3389.477490238256\n",
      "Iter: 500, weights: [56.49273247  5.92762773  1.05911252  5.47578883], error 25.249725284163226\n",
      "Iter: 1000, weights: [56.49499991  6.19248628  0.14431571  6.1590457 ], error 24.949062748466737\n",
      "Iter: 1500, weights: [56.495       6.25226869 -0.1457525   6.40268526], error 24.912384192129718\n",
      "Iter: 2000, weights: [56.495       6.27162169 -0.24239082  6.4830831 ], error 24.906893235713785\n",
      "Iter: 2500, weights: [56.495       6.27880713 -0.27724391  6.51188301], error 24.905726993901066\n",
      "Iter: 3000, weights: [56.495       6.28140469 -0.28979251  6.5222422 ], error 24.905412287191627\n",
      "Iter: 3500, weights: [56.495       6.28234024 -0.29430946  6.52597054], error 24.905312630117667\n",
      "Iter: 4000, weights: [56.495       6.28267701 -0.2959353   6.52731251], error 24.905278524147096\n",
      "Iter: 4500, weights: [56.495       6.28279823 -0.29652051  6.52779554], error 24.90526647664428\n",
      "Final MSE: 24.905262169872014\n"
     ]
    },
    {
     "data": {
      "text/plain": [
       "array([56.495     ,  6.28284181, -0.29673091,  6.5279692 ])"
      ]
     },
     "execution_count": 13,
     "metadata": {},
     "output_type": "execute_result"
    }
   ],
   "source": [
    "gradient_descent_reg_l1(X_st, y, iterations=5000, eta=1e-2, reg=1e-4)"
   ]
  },
  {
   "cell_type": "markdown",
   "metadata": {},
   "source": [
    "**3. *Можно ли к одному и тому же признаку применить сразу и нормализацию, и стандартизацию?**"
   ]
  },
  {
   "cell_type": "code",
   "execution_count": 14,
   "metadata": {},
   "outputs": [],
   "source": [
    "def standard_scale(X):\n",
    "    mean = X.mean(axis=0)\n",
    "    std = X.std(axis=0)\n",
    "    return (X - mean) / std"
   ]
  },
  {
   "cell_type": "code",
   "execution_count": 15,
   "metadata": {},
   "outputs": [],
   "source": [
    "def min_max_scale(X):\n",
    "    return (X - X.min(axis=0)) / (X.max(axis=0) - X.min(axis=0))"
   ]
  },
  {
   "cell_type": "code",
   "execution_count": 16,
   "metadata": {},
   "outputs": [
    {
     "data": {
      "text/plain": [
       "(array([0., 0., 0.]), array([1., 1., 1.]))"
      ]
     },
     "execution_count": 16,
     "metadata": {},
     "output_type": "execute_result"
    }
   ],
   "source": [
    "X_norm = X.copy().astype('float64')\n",
    "X_norm = min_max_scale(X_norm[:, 1:])\n",
    "X_norm.min(axis=0), X_norm.max(axis=0)"
   ]
  },
  {
   "cell_type": "code",
   "execution_count": 17,
   "metadata": {},
   "outputs": [
    {
     "data": {
      "text/plain": [
       "(array([0.3       , 0.33870968, 0.35      ]),\n",
       " array([0.28284271, 0.31283671, 0.39051248]))"
      ]
     },
     "execution_count": 17,
     "metadata": {},
     "output_type": "execute_result"
    }
   ],
   "source": [
    "X_norm.mean(axis=0), X_norm.std(axis=0)"
   ]
  },
  {
   "cell_type": "code",
   "execution_count": 18,
   "metadata": {},
   "outputs": [
    {
     "data": {
      "text/plain": [
       "(array([-1.06066017, -1.08270439, -0.89625816]),\n",
       " array([2.47487373, 2.11385144, 1.66447944]))"
      ]
     },
     "execution_count": 18,
     "metadata": {},
     "output_type": "execute_result"
    }
   ],
   "source": [
    "X_norm_st = standard_scale(X_norm)\n",
    "X_norm_st.min(axis=0), X_norm_st.max(axis=0)"
   ]
  },
  {
   "cell_type": "code",
   "execution_count": 19,
   "metadata": {},
   "outputs": [
    {
     "data": {
      "text/plain": [
       "(array([-1.49880108e-16, -6.86950496e-17,  8.32667268e-17]),\n",
       " array([1., 1., 1.]))"
      ]
     },
     "execution_count": 19,
     "metadata": {},
     "output_type": "execute_result"
    }
   ],
   "source": [
    "X_norm_st.mean(axis=0), X_norm_st.std(axis=0)"
   ]
  },
  {
   "cell_type": "markdown",
   "metadata": {
    "id": "osNM_LLkiqu6"
   },
   "source": [
    "**4. *Сгенерируйте датасет при помощи <code>sklearn.datasets.make_regression</code> и обучите линейную модель при помощи градиентного и стохастического градиентного спуска. Нанесите среднеквадратичную ошибку для обоих методов на один график, сделайте выводы о разнице скорости сходимости каждого из методов.**"
   ]
  },
  {
   "cell_type": "code",
   "execution_count": 20,
   "metadata": {},
   "outputs": [
    {
     "data": {
      "text/plain": [
       "array([[-0.71760732, -1.09367119, -0.73597009, ..., -0.09194752,\n",
       "         0.77271648, -0.5294093 ],\n",
       "       [-0.21856062, -0.43937009,  1.17601766, ..., -0.44205731,\n",
       "         0.65967443, -0.5364636 ],\n",
       "       [-0.09232329, -0.04777714,  0.58128624, ..., -0.64041891,\n",
       "         1.29076796, -0.34530826],\n",
       "       ...,\n",
       "       [-0.1724219 ,  1.20477844,  0.77081956, ...,  1.78646758,\n",
       "        -0.59041036, -0.6747931 ],\n",
       "       [ 0.93830193, -0.05266006,  1.45767292, ..., -1.01765261,\n",
       "         0.02393901,  1.37086726],\n",
       "       [-0.99582701,  1.30720547, -0.04855569, ...,  1.85683052,\n",
       "        -0.26133944,  0.50888458]])"
      ]
     },
     "metadata": {},
     "output_type": "display_data"
    },
    {
     "data": {
      "text/plain": [
       "array([-133.10543687,   44.01778172,   48.98233093, ..., -271.14963388,\n",
       "        161.66813826,  380.05918834])"
      ]
     },
     "metadata": {},
     "output_type": "display_data"
    },
    {
     "data": {
      "text/plain": [
       "array([8.03590530e+00, 9.63394753e+00, 0.00000000e+00, 0.00000000e+00,\n",
       "       0.00000000e+00, 7.86058430e+01, 0.00000000e+00, 0.00000000e+00,\n",
       "       9.61298231e+01, 5.95379955e+01, 0.00000000e+00, 3.30583257e+01,\n",
       "       3.71965212e+01, 6.59198012e-02, 0.00000000e+00, 0.00000000e+00,\n",
       "       0.00000000e+00, 2.78539772e+01, 0.00000000e+00, 7.36381949e+01])"
      ]
     },
     "metadata": {},
     "output_type": "display_data"
    }
   ],
   "source": [
    "from sklearn import datasets\n",
    "\n",
    "X, Y, coef = datasets.make_regression(n_samples=100000, n_features=20, n_informative=10, n_targets=1, \n",
    "                                      noise=5, coef=True, random_state=2)\n",
    "display(X, Y, coef)"
   ]
  },
  {
   "cell_type": "code",
   "execution_count": 21,
   "metadata": {},
   "outputs": [],
   "source": [
    "X = standard_scale(X)"
   ]
  },
  {
   "cell_type": "code",
   "execution_count": 22,
   "metadata": {},
   "outputs": [],
   "source": [
    "# стохастический градиентный спуск\n",
    "def stohastic_gradient_descent(X, Y, iterations, eta=1e-4, size=1):\n",
    "    W = np.random.randn(X.shape[1])\n",
    "    n = X.shape[0]\n",
    "    \n",
    "    errors = []\n",
    "    w_list = [W.copy()]\n",
    "    for i in range(0, iterations):\n",
    "        train_ind = np.random.randint(X.shape[0], size=size)\n",
    "\n",
    "        y_pred = np.dot(X[train_ind], W)\n",
    "        W = W - eta * 2 / Y[train_ind].shape[0] * np.dot(X[train_ind].T, y_pred - Y[train_ind])\n",
    "\n",
    "        error = calc_mse(Y, np.dot(X, W))\n",
    "        errors.append(error)\n",
    "        w_list.append(W)\n",
    "        \n",
    "        if i % (iterations / 10) == 0:\n",
    "            print(f'Iter: {i}, error {error}')\n",
    "    \n",
    "    print(f'Final MSE: {calc_mse(Y, np.dot(X, W))}')\n",
    "    return W, errors, w_list"
   ]
  },
  {
   "cell_type": "code",
   "execution_count": 23,
   "metadata": {},
   "outputs": [],
   "source": [
    "# классический  GD\n",
    "def gradient_descent(X, y, iterations, eta=1e-4):\n",
    "    W = np.random.randn(X.shape[1])\n",
    "    n = X.shape[0]\n",
    "    \n",
    "    errors = []\n",
    "    w_list = [W.copy()]\n",
    "    for i in range(0, iterations):\n",
    "        y_pred = np.dot(X, W)\n",
    "        err = calc_mse(y, y_pred)\n",
    "        errors.append(err)\n",
    "        \n",
    "        dQ = 2/n * X.T @ (y_pred - y) # градиент функции ошибки\n",
    "        W -= (eta * dQ)\n",
    "        w_list.append(W.copy())\n",
    "        \n",
    "        if i % (iterations / 10) == 0:\n",
    "            print(f'Iter: {i}, error {err}')\n",
    "        \n",
    "    print(f'Final MSE: {calc_mse(y, np.dot(X, W))}')\n",
    "    return W, errors, w_list"
   ]
  },
  {
   "cell_type": "code",
   "execution_count": 24,
   "metadata": {},
   "outputs": [
    {
     "name": "stdout",
     "output_type": "stream",
     "text": [
      "Iter: 0, error 28622.507232448326\n",
      "Iter: 500, error 3824.66521099249\n",
      "Iter: 1000, error 530.2717388001323\n",
      "Iter: 1500, error 92.29378305654315\n",
      "Iter: 2000, error 34.02369680876977\n",
      "Iter: 2500, error 26.265569258447314\n",
      "Iter: 3000, error 25.231887073340257\n",
      "Iter: 3500, error 25.094059275895678\n",
      "Iter: 4000, error 25.075668211531575\n",
      "Iter: 4500, error 25.073212385726833\n",
      "Final MSE: 25.072884208028285\n",
      "CPU times: user 2min 40s, sys: 45.8 s, total: 3min 26s\n",
      "Wall time: 55.8 s\n"
     ]
    }
   ],
   "source": [
    "%%time\n",
    "weights_GD, errors_GD, w_list_GD = gradient_descent(X, Y, iterations=5000, eta=1e-3)"
   ]
  },
  {
   "cell_type": "code",
   "execution_count": 25,
   "metadata": {},
   "outputs": [
    {
     "name": "stdout",
     "output_type": "stream",
     "text": [
      "Iter: 0, error 28107.095341715434\n",
      "Iter: 500, error 3421.8580156886856\n",
      "Iter: 1000, error 376.57137743446043\n",
      "Iter: 1500, error 68.04778182253654\n",
      "Iter: 2000, error 30.461625385432754\n",
      "Iter: 2500, error 26.8571511039952\n",
      "Iter: 3000, error 25.78221626310394\n",
      "Iter: 3500, error 25.569960144754432\n",
      "Iter: 4000, error 25.427251537909846\n",
      "Iter: 4500, error 25.512943739429108\n",
      "Final MSE: 25.32307869922848\n",
      "CPU times: user 36.1 s, sys: 9.38 s, total: 45.5 s\n",
      "Wall time: 12.9 s\n"
     ]
    }
   ],
   "source": [
    "%%time\n",
    "weights_SGD, errors_SGD, w_list_SGD = stohastic_gradient_descent(X, Y, iterations=5000, eta=1e-3, size=1)"
   ]
  },
  {
   "cell_type": "code",
   "execution_count": 41,
   "metadata": {},
   "outputs": [
    {
     "data": {
      "image/png": "[encoded data removed]",
      "text/plain": [
       "<Figure size 432x288 with 1 Axes>"
      ]
     },
     "metadata": {
      "needs_background": "light"
     },
     "output_type": "display_data"
    }
   ],
   "source": [
    "# Визуализируем изменение функционала ошибки\n",
    "plt.plot(range(len(errors_GD)), errors_GD, color='b', label='GD')\n",
    "plt.plot(range(len(errors_SGD)), errors_SGD, color='g', label='SGD')\n",
    "\n",
    "plt.title('MSE')\n",
    "plt.xlabel('Iteration number')\n",
    "plt.ylabel('MSE')\n",
    "plt.xlim(0, 1000)\n",
    "plt.legend();"
   ]
  },
  {
   "cell_type": "code",
   "execution_count": 27,
   "metadata": {},
   "outputs": [],
   "source": [
    "w_list_GD = np.array(w_list_GD)\n",
    "w_list_SGD = np.array(w_list_SGD)"
   ]
  },
  {
   "cell_type": "code",
   "execution_count": 28,
   "metadata": {},
   "outputs": [
    {
     "data": {
      "image/png": "[encoded data removed]",
      "text/plain": [
       "<Figure size 936x432 with 1 Axes>"
      ]
     },
     "metadata": {
      "needs_background": "light"
     },
     "output_type": "display_data"
    }
   ],
   "source": [
    "# Визуализируем изменение весов (красной точкой обозначены истинные веса, сгенерированные вначале)\n",
    "plt.figure(figsize=(13, 6))\n",
    "plt.title('Compare SGD and GD')\n",
    "plt.xlabel(r'$w_1$')\n",
    "plt.ylabel(r'$w_2$')\n",
    "\n",
    "plt.scatter(w_list_GD[:, 0], w_list_GD[:, 1], color='b')\n",
    "plt.plot(w_list_GD[:, 0], w_list_GD[:, 1], color='b', label='GD')\n",
    "\n",
    "plt.scatter(w_list_SGD[:, 0], w_list_SGD[:, 1], color='g')\n",
    "plt.plot(w_list_SGD[:, 0], w_list_SGD[:, 1], color='g', label='SGD')\n",
    "plt.scatter(coef[0], coef[1], c='r')\n",
    "\n",
    "plt.legend()\n",
    "plt.show()"
   ]
  }
 ],
 "metadata": {
  "kernelspec": {
   "display_name": "Python 3",
   "language": "python",
   "name": "python3"
  },
  "language_info": {
   "codemirror_mode": {
    "name": "ipython",
    "version": 3
   },
   "file_extension": ".py",
   "mimetype": "text/x-python",
   "name": "python",
   "nbconvert_exporter": "python",
   "pygments_lexer": "ipython3",
   "version": "3.6.8"
  }
 },
 "nbformat": 4,
 "nbformat_minor": 2
}
