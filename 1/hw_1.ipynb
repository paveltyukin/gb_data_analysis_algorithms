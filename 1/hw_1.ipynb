{
 "cells": [
  {
   "cell_type": "markdown",
   "metadata": {},
   "source": [
    "<h1>Урок 1. Алгоритм линейной регрессии. Градиентный спуск.</h1>"
   ]
  },
  {
   "cell_type": "markdown",
   "metadata": {},
   "source": [
    "<h2>1. Подберите скорость обучения (eta) и количество итераций</h2>"
   ]
  },
  {
   "cell_type": "code",
   "execution_count": 1,
   "metadata": {},
   "outputs": [],
   "source": [
    "import numpy as np"
   ]
  },
  {
   "cell_type": "code",
   "execution_count": 2,
   "metadata": {},
   "outputs": [],
   "source": [
    "X = np.array([[ 1,  1],\n",
    "              [ 1,  1],\n",
    "              [ 1,  2],\n",
    "              [ 1,  5],\n",
    "              [ 1,  3],\n",
    "              [ 1,  0],\n",
    "              [ 1,  5],\n",
    "              [ 1, 10],\n",
    "              [ 1,  1],\n",
    "              [ 1,  2]])\n",
    "y = [45, 55, 50, 55, 60, 35, 75, 80, 50, 60]"
   ]
  },
  {
   "cell_type": "code",
   "execution_count": 3,
   "metadata": {},
   "outputs": [],
   "source": [
    "def calc_mse(y, y_pred):\n",
    "    err = np.mean((y - y_pred)**2)\n",
    "    return err"
   ]
  },
  {
   "cell_type": "code",
   "execution_count": 4,
   "metadata": {
    "scrolled": true
   },
   "outputs": [
    {
     "name": "stdout",
     "output_type": "stream",
     "text": [
      "Number of objects = 2         \n",
      "Number of iterations: 443        \n",
      "Learning rate = 0.01         \n",
      "Initial weights = [1.  0.5] \n",
      "\n",
      "Iteration #443: W_new = [44.63509213  3.89000383], MSE = 44.05\n"
     ]
    }
   ],
   "source": [
    "# Параметры:\n",
    "eta = 1e-2\n",
    "n_iter = 443\n",
    "\n",
    "n = X.shape[1]\n",
    "err = None\n",
    "\n",
    "W = np.array([1, 0.5])\n",
    "print(f'Number of objects = {n} \\\n",
    "        \\nNumber of iterations: {n_iter}\\\n",
    "        \\nLearning rate = {eta} \\\n",
    "        \\nInitial weights = {W} \\n')\n",
    "\n",
    "for i in range(n_iter):\n",
    "    y_pred = np.dot(X, W)\n",
    "    err = calc_mse(y, y_pred)\n",
    "    for k in range(W.shape[0]):\n",
    "        W[k] -= eta * (1/n * 2 * X[:, k] @ (y_pred - y))\n",
    "    if i % 10 == 0:\n",
    "        eta /= 1.1\n",
    "\n",
    "print(f'Iteration #{n_iter}: W_new = {W}, MSE = {round(err, 2)}')"
   ]
  },
  {
   "cell_type": "markdown",
   "metadata": {},
   "source": [
    "<b>при n_iter = 0.01 достаточно 443 итерации для получения результата с MSE = 44.05</b>"
   ]
  },
  {
   "cell_type": "markdown",
   "metadata": {},
   "source": [
    "<h2>2*. В этом коде мы избавляемся от итераций по весам, но тут есть ошибка, исправьте ее</h2>"
   ]
  },
  {
   "cell_type": "code",
   "execution_count": 5,
   "metadata": {},
   "outputs": [
    {
     "name": "stdout",
     "output_type": "stream",
     "text": [
      "Number of objects = 2        \n",
      "Learning rate = 0.01        \n",
      "Initial weights = [1.  0.5] \n",
      "\n",
      "Iteration #0: W_new = [6.4 5.9], MSE = 3047.75\n",
      "Iteration #10: W_new = [14.4510224 13.9510224], MSE = 861.1\n",
      "Iteration #20: W_new = [14.49970385 13.99970385], MSE = 874.17\n",
      "Iteration #30: W_new = [14.49999821 13.99999821], MSE = 874.25\n",
      "Iteration #40: W_new = [14.49999999 13.99999999], MSE = 874.25\n",
      "Iteration #50: W_new = [14.5 14. ], MSE = 874.25\n",
      "Iteration #60: W_new = [14.5 14. ], MSE = 874.25\n",
      "Iteration #70: W_new = [14.5 14. ], MSE = 874.25\n",
      "Iteration #80: W_new = [14.5 14. ], MSE = 874.25\n",
      "Iteration #90: W_new = [14.5 14. ], MSE = 874.25\n"
     ]
    }
   ],
   "source": [
    "n = X.shape[1]\n",
    "\n",
    "eta = 1e-2\n",
    "n_iter = 100\n",
    "\n",
    "W = np.array([1, 0.5])\n",
    "print(f'Number of objects = {n} \\\n",
    "       \\nLearning rate = {eta} \\\n",
    "       \\nInitial weights = {W} \\n')\n",
    "\n",
    "for i in range(n_iter):\n",
    "    y_pred = np.dot(X, W)\n",
    "    err = calc_mse(y, y_pred)\n",
    "    #\n",
    "    W -= eta * (1/n * 2 * np.dot(X[:, 0], y_pred - y))\n",
    "    #\n",
    "    if i % 10 == 0:\n",
    "        print(f'Iteration #{i}: W_new = {W}, MSE = {round(err,2)}')"
   ]
  },
  {
   "cell_type": "markdown",
   "metadata": {},
   "source": [
    "<b>W -= eta * (1/n * 2 * np.dot(X[:, 0], y_pred - y))</b>"
   ]
  },
  {
   "cell_type": "markdown",
   "metadata": {},
   "source": [
    "<h2>3*. Вместо того, чтобы задавать количество итераций, задайте другое условие останова алгоритма - когда веса перестают изменяться меньше определенного порога 𝜖 </h2>"
   ]
  },
  {
   "cell_type": "code",
   "execution_count": 6,
   "metadata": {},
   "outputs": [
    {
     "name": "stdout",
     "output_type": "stream",
     "text": [
      "Number of objects = 2        \n",
      "Learning rate = 0.01        \n",
      "Initial weights = [1.e+03 5.e-01] \n",
      "\n",
      "Iteration #0: W_new = [1.  0.5], MSE = 893156.75\n",
      "Iteration #10: W_new = [13.55824 13.05824], MSE = 1116.12\n",
      "Iteration #20: W_new = [14.48303242 13.98303242], MSE = 874.2\n",
      "Iteration #30: W_new = [14.49976754 13.99976754], MSE = 874.23\n",
      "Iteration #35: W_new = [14.5000203 14.0000203], MSE = 874.25\n"
     ]
    }
   ],
   "source": [
    "n = X.shape[1]\n",
    "\n",
    "eta = 1e-2\n",
    "n_iter = 100\n",
    "\n",
    "#\n",
    "e_krit = 1e-5\n",
    "W_new = np.array([1, 0.5])\n",
    "W = np.array([1000, 0.5])\n",
    "#\n",
    "print(f'Number of objects = {n} \\\n",
    "       \\nLearning rate = {eta} \\\n",
    "       \\nInitial weights = {W} \\n')\n",
    "#\n",
    "i = 0\n",
    "while np.abs(W[0] - W_new[0]) > e_krit:\n",
    "#\n",
    "    y_pred = np.dot(X, W)\n",
    "    err = calc_mse(y, y_pred)\n",
    "    #\n",
    "    W = W_new.copy()\n",
    "    W_new -= eta * (1/n * 2 * np.dot(X[:, 0], y_pred - y))\n",
    "    #\n",
    "    if i % 10 == 0:\n",
    "        print(f'Iteration #{i}: W_new = {W}, MSE = {round(err,2)}')\n",
    "    #\n",
    "    i += 1\n",
    "    #\n",
    "\n",
    "print(f'Iteration #{i}: W_new = {W}, MSE = {round(err,2)}')"
   ]
  },
  {
   "cell_type": "markdown",
   "metadata": {},
   "source": [
    "<b>\n",
    "W = W_new.copy()\n",
    "\n",
    "\n",
    "W_new -= eta * (1/n * 2 * np.dot(X[:, 0], y_pred - y))\n",
    "</b>"
   ]
  },
  {
   "cell_type": "code",
   "execution_count": null,
   "metadata": {},
   "outputs": [],
   "source": []
  }
 ],
 "metadata": {
  "kernelspec": {
   "display_name": "Python 3",
   "language": "python",
   "name": "python3"
  },
  "language_info": {
   "codemirror_mode": {
    "name": "ipython",
    "version": 3
   },
   "file_extension": ".py",
   "mimetype": "text/x-python",
   "name": "python",
   "nbconvert_exporter": "python",
   "pygments_lexer": "ipython3",
   "version": "3.7.6"
  }
 },
 "nbformat": 4,
 "nbformat_minor": 4
}
